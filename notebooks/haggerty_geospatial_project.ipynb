{
 "cells": [
  {
   "cell_type": "code",
   "execution_count": 1,
   "id": "a8e72676",
   "metadata": {},
   "outputs": [],
   "source": [
    "from shapely.geometry import Point\n",
    "import pandas as pd\n",
    "import geopandas as gpd\n",
    "import matplotlib.pyplot as plt\n",
    "import folium\n",
    "from folium.plugins import MarkerCluster\n",
    "from folium.plugins import FastMarkerCluster"
   ]
  },
  {
   "cell_type": "markdown",
   "id": "690ab2e5",
   "metadata": {},
   "source": [
    "#load data files"
   ]
  },
  {
   "cell_type": "code",
   "execution_count": 3,
   "id": "18d6ed5a",
   "metadata": {},
   "outputs": [
    {
     "name": "stdout",
     "output_type": "stream",
     "text": [
      "EPSG:4326\n"
     ]
    },
    {
     "data": {
      "text/html": [
       "<div>\n",
       "<style scoped>\n",
       "    .dataframe tbody tr th:only-of-type {\n",
       "        vertical-align: middle;\n",
       "    }\n",
       "\n",
       "    .dataframe tbody tr th {\n",
       "        vertical-align: top;\n",
       "    }\n",
       "\n",
       "    .dataframe thead th {\n",
       "        text-align: right;\n",
       "    }\n",
       "</style>\n",
       "<table border=\"1\" class=\"dataframe\">\n",
       "  <thead>\n",
       "    <tr style=\"text-align: right;\">\n",
       "      <th></th>\n",
       "      <th>zipcode</th>\n",
       "      <th>poname</th>\n",
       "      <th>created_date</th>\n",
       "      <th>objectid</th>\n",
       "      <th>globalid</th>\n",
       "      <th>created_user</th>\n",
       "      <th>last_edited_date</th>\n",
       "      <th>last_edited_user</th>\n",
       "      <th>geometry</th>\n",
       "    </tr>\n",
       "  </thead>\n",
       "  <tbody>\n",
       "    <tr>\n",
       "      <th>0</th>\n",
       "      <td>37218</td>\n",
       "      <td>NASHVILLE</td>\n",
       "      <td>NaN</td>\n",
       "      <td>55</td>\n",
       "      <td>{3CB897BE-ACCB-46CB-BA4E-6F5E39D6C451}</td>\n",
       "      <td>NaN</td>\n",
       "      <td>NaN</td>\n",
       "      <td>NaN</td>\n",
       "      <td>MULTIPOLYGON (((-86.88231 36.26248, -86.88270 ...</td>\n",
       "    </tr>\n",
       "    <tr>\n",
       "      <th>1</th>\n",
       "      <td>37080</td>\n",
       "      <td>JOELTON</td>\n",
       "      <td>NaN</td>\n",
       "      <td>32</td>\n",
       "      <td>{C63ADE44-CC5E-4CCD-BBF0-4B8A64864B42}</td>\n",
       "      <td>NaN</td>\n",
       "      <td>NaN</td>\n",
       "      <td>NaN</td>\n",
       "      <td>MULTIPOLYGON (((-86.90742 36.39053, -86.90725 ...</td>\n",
       "    </tr>\n",
       "    <tr>\n",
       "      <th>2</th>\n",
       "      <td>37027</td>\n",
       "      <td>BRENTWOOD</td>\n",
       "      <td>NaN</td>\n",
       "      <td>44</td>\n",
       "      <td>{8846D4AC-5F8A-4434-8348-C9A28297FA4E}</td>\n",
       "      <td>NaN</td>\n",
       "      <td>NaN</td>\n",
       "      <td>NaN</td>\n",
       "      <td>MULTIPOLYGON (((-86.67793 35.98782, -86.67941 ...</td>\n",
       "    </tr>\n",
       "    <tr>\n",
       "      <th>3</th>\n",
       "      <td>37086</td>\n",
       "      <td>LA VERGNE</td>\n",
       "      <td>NaN</td>\n",
       "      <td>5</td>\n",
       "      <td>{1618FE99-089D-4ED0-BAFA-C29A19596F3D}</td>\n",
       "      <td>NaN</td>\n",
       "      <td>NaN</td>\n",
       "      <td>NaN</td>\n",
       "      <td>MULTIPOLYGON (((-86.58870 36.02671, -86.58836 ...</td>\n",
       "    </tr>\n",
       "    <tr>\n",
       "      <th>4</th>\n",
       "      <td>37219</td>\n",
       "      <td>NASHVILLE</td>\n",
       "      <td>NaN</td>\n",
       "      <td>15</td>\n",
       "      <td>{B531C81C-3919-4059-8444-23F5F0684ECA}</td>\n",
       "      <td>NaN</td>\n",
       "      <td>NaN</td>\n",
       "      <td>NaN</td>\n",
       "      <td>MULTIPOLYGON (((-86.78609 36.17465, -86.78585 ...</td>\n",
       "    </tr>\n",
       "  </tbody>\n",
       "</table>\n",
       "</div>"
      ],
      "text/plain": [
       "  zipcode     poname  created_date objectid   \n",
       "0   37218  NASHVILLE           NaN       55  \\\n",
       "1   37080    JOELTON           NaN       32   \n",
       "2   37027  BRENTWOOD           NaN       44   \n",
       "3   37086  LA VERGNE           NaN        5   \n",
       "4   37219  NASHVILLE           NaN       15   \n",
       "\n",
       "                                 globalid  created_user  last_edited_date   \n",
       "0  {3CB897BE-ACCB-46CB-BA4E-6F5E39D6C451}           NaN               NaN  \\\n",
       "1  {C63ADE44-CC5E-4CCD-BBF0-4B8A64864B42}           NaN               NaN   \n",
       "2  {8846D4AC-5F8A-4434-8348-C9A28297FA4E}           NaN               NaN   \n",
       "3  {1618FE99-089D-4ED0-BAFA-C29A19596F3D}           NaN               NaN   \n",
       "4  {B531C81C-3919-4059-8444-23F5F0684ECA}           NaN               NaN   \n",
       "\n",
       "   last_edited_user                                           geometry  \n",
       "0               NaN  MULTIPOLYGON (((-86.88231 36.26248, -86.88270 ...  \n",
       "1               NaN  MULTIPOLYGON (((-86.90742 36.39053, -86.90725 ...  \n",
       "2               NaN  MULTIPOLYGON (((-86.67793 35.98782, -86.67941 ...  \n",
       "3               NaN  MULTIPOLYGON (((-86.58870 36.02671, -86.58836 ...  \n",
       "4               NaN  MULTIPOLYGON (((-86.78609 36.17465, -86.78585 ...  "
      ]
     },
     "execution_count": 3,
     "metadata": {},
     "output_type": "execute_result"
    }
   ],
   "source": [
    "zipcodes = gpd.read_file('../data/new_Zip_Codes.geojson')\n",
    "print(zipcodes.crs)\n",
    "type(zipcodes)\n",
    "zipcodes.head( )"
   ]
  },
  {
   "cell_type": "code",
   "execution_count": 5,
   "id": "be54cf92",
   "metadata": {},
   "outputs": [
    {
     "name": "stdout",
     "output_type": "stream",
     "text": [
      "EPSG:4326\n"
     ]
    },
    {
     "data": {
      "text/html": [
       "<div>\n",
       "<style scoped>\n",
       "    .dataframe tbody tr th:only-of-type {\n",
       "        vertical-align: middle;\n",
       "    }\n",
       "\n",
       "    .dataframe tbody tr th {\n",
       "        vertical-align: top;\n",
       "    }\n",
       "\n",
       "    .dataframe thead th {\n",
       "        text-align: right;\n",
       "    }\n",
       "</style>\n",
       "<table border=\"1\" class=\"dataframe\">\n",
       "  <thead>\n",
       "    <tr style=\"text-align: right;\">\n",
       "      <th></th>\n",
       "      <th>name</th>\n",
       "      <th>location</th>\n",
       "      <th>dog</th>\n",
       "      <th>objectid</th>\n",
       "      <th>lon</th>\n",
       "      <th>ada</th>\n",
       "      <th>cnt</th>\n",
       "      <th>lat</th>\n",
       "      <th>feat_type</th>\n",
       "      <th>geometry</th>\n",
       "    </tr>\n",
       "  </thead>\n",
       "  <tbody>\n",
       "    <tr>\n",
       "      <th>0</th>\n",
       "      <td>Beaman Water Fountain</td>\n",
       "      <td>NaN</td>\n",
       "      <td>Y</td>\n",
       "      <td>45921</td>\n",
       "      <td>36.26250456</td>\n",
       "      <td>Y</td>\n",
       "      <td>1</td>\n",
       "      <td>-86.89425346</td>\n",
       "      <td>Fountain/Bottle filler/ADA</td>\n",
       "      <td>POINT (-86.89425 36.26250)</td>\n",
       "    </tr>\n",
       "    <tr>\n",
       "      <th>1</th>\n",
       "      <td>Edwin Nature Center Water Fountain</td>\n",
       "      <td>Restrooms Breezeway</td>\n",
       "      <td>N</td>\n",
       "      <td>45937</td>\n",
       "      <td>36.06089915</td>\n",
       "      <td>Y</td>\n",
       "      <td>1</td>\n",
       "      <td>-86.90622747</td>\n",
       "      <td>Bottle Filler/ADA</td>\n",
       "      <td>POINT (-86.90623 36.06090)</td>\n",
       "    </tr>\n",
       "    <tr>\n",
       "      <th>2</th>\n",
       "      <td>Percy Warner Belle Meade Gates Water Fountain</td>\n",
       "      <td>Belle Meade Gates</td>\n",
       "      <td>Y</td>\n",
       "      <td>45964</td>\n",
       "      <td>36.08310102</td>\n",
       "      <td>Y</td>\n",
       "      <td>1</td>\n",
       "      <td>-86.86727566</td>\n",
       "      <td>ADA Bowl</td>\n",
       "      <td>POINT (-86.86728 36.08310)</td>\n",
       "    </tr>\n",
       "    <tr>\n",
       "      <th>3</th>\n",
       "      <td>West Park Water Fountain</td>\n",
       "      <td>Ballfield</td>\n",
       "      <td>N</td>\n",
       "      <td>45992</td>\n",
       "      <td>36.16179583</td>\n",
       "      <td>N</td>\n",
       "      <td>1</td>\n",
       "      <td>-86.86378994</td>\n",
       "      <td>Single with foot pedal</td>\n",
       "      <td>POINT (-86.86379 36.16180)</td>\n",
       "    </tr>\n",
       "    <tr>\n",
       "      <th>4</th>\n",
       "      <td>Richland Park Water Fountain</td>\n",
       "      <td>Playground</td>\n",
       "      <td>N</td>\n",
       "      <td>46012</td>\n",
       "      <td>36.15139384</td>\n",
       "      <td>N</td>\n",
       "      <td>1</td>\n",
       "      <td>-86.84589094</td>\n",
       "      <td>Single with foot pedal</td>\n",
       "      <td>POINT (-86.84589 36.15139)</td>\n",
       "    </tr>\n",
       "  </tbody>\n",
       "</table>\n",
       "</div>"
      ],
      "text/plain": [
       "                                            name             location dog   \n",
       "0                          Beaman Water Fountain                  NaN   Y  \\\n",
       "1             Edwin Nature Center Water Fountain  Restrooms Breezeway   N   \n",
       "2  Percy Warner Belle Meade Gates Water Fountain    Belle Meade Gates   Y   \n",
       "3                       West Park Water Fountain            Ballfield   N   \n",
       "4                   Richland Park Water Fountain           Playground   N   \n",
       "\n",
       "  objectid          lon ada cnt           lat                   feat_type   \n",
       "0    45921  36.26250456   Y   1  -86.89425346  Fountain/Bottle filler/ADA  \\\n",
       "1    45937  36.06089915   Y   1  -86.90622747           Bottle Filler/ADA   \n",
       "2    45964  36.08310102   Y   1  -86.86727566                    ADA Bowl   \n",
       "3    45992  36.16179583   N   1  -86.86378994      Single with foot pedal   \n",
       "4    46012  36.15139384   N   1  -86.84589094      Single with foot pedal   \n",
       "\n",
       "                     geometry  \n",
       "0  POINT (-86.89425 36.26250)  \n",
       "1  POINT (-86.90623 36.06090)  \n",
       "2  POINT (-86.86728 36.08310)  \n",
       "3  POINT (-86.86379 36.16180)  \n",
       "4  POINT (-86.84589 36.15139)  "
      ]
     },
     "execution_count": 5,
     "metadata": {},
     "output_type": "execute_result"
    }
   ],
   "source": [
    "hydration_stations = gpd.read_file('../data/Public_Water_Fountains_and_Hydration_Systems_GIS.geojson')\n",
    "print(hydration_stations.crs)\n",
    "hydration_stations.head()\n"
   ]
  },
  {
   "cell_type": "code",
   "execution_count": 6,
   "id": "8b01f352",
   "metadata": {},
   "outputs": [
    {
     "name": "stdout",
     "output_type": "stream",
     "text": [
      "EPSG:4326\n"
     ]
    },
    {
     "data": {
      "text/html": [
       "<div>\n",
       "<style scoped>\n",
       "    .dataframe tbody tr th:only-of-type {\n",
       "        vertical-align: middle;\n",
       "    }\n",
       "\n",
       "    .dataframe tbody tr th {\n",
       "        vertical-align: top;\n",
       "    }\n",
       "\n",
       "    .dataframe thead th {\n",
       "        text-align: right;\n",
       "    }\n",
       "</style>\n",
       "<table border=\"1\" class=\"dataframe\">\n",
       "  <thead>\n",
       "    <tr style=\"text-align: right;\">\n",
       "      <th></th>\n",
       "      <th>area_sq_mi</th>\n",
       "      <th>objectid</th>\n",
       "      <th>shape_area</th>\n",
       "      <th>shape_len</th>\n",
       "      <th>geometry</th>\n",
       "    </tr>\n",
       "  </thead>\n",
       "  <tbody>\n",
       "    <tr>\n",
       "      <th>0</th>\n",
       "      <td>525</td>\n",
       "      <td>4</td>\n",
       "      <td>14641027913.6</td>\n",
       "      <td>686109.334953</td>\n",
       "      <td>MULTIPOLYGON (((-86.52704 36.13598, -86.52914 ...</td>\n",
       "    </tr>\n",
       "    <tr>\n",
       "      <th>1</th>\n",
       "      <td>0</td>\n",
       "      <td>3</td>\n",
       "      <td>675823.52</td>\n",
       "      <td>3786.70930403</td>\n",
       "      <td>MULTIPOLYGON (((-86.52315 36.13876, -86.52288 ...</td>\n",
       "    </tr>\n",
       "  </tbody>\n",
       "</table>\n",
       "</div>"
      ],
      "text/plain": [
       "  area_sq_mi objectid     shape_area      shape_len   \n",
       "0        525        4  14641027913.6  686109.334953  \\\n",
       "1          0        3      675823.52  3786.70930403   \n",
       "\n",
       "                                            geometry  \n",
       "0  MULTIPOLYGON (((-86.52704 36.13598, -86.52914 ...  \n",
       "1  MULTIPOLYGON (((-86.52315 36.13876, -86.52288 ...  "
      ]
     },
     "execution_count": 6,
     "metadata": {},
     "output_type": "execute_result"
    }
   ],
   "source": [
    "davidson_border =  gpd.read_file('../data/Davidson_County_Border_GIS.geojson')\n",
    "print(davidson_border.crs)\n",
    "davidson_border.head()"
   ]
  },
  {
   "cell_type": "markdown",
   "id": "a3f0039e",
   "metadata": {},
   "source": [
    "#verify df type"
   ]
  },
  {
   "cell_type": "code",
   "execution_count": 8,
   "id": "7b907cbf",
   "metadata": {},
   "outputs": [
    {
     "data": {
      "text/plain": [
       "geopandas.geodataframe.GeoDataFrame"
      ]
     },
     "execution_count": 8,
     "metadata": {},
     "output_type": "execute_result"
    }
   ],
   "source": [
    "type(davidson_border)\n",
    "type(hydration_stations)"
   ]
  },
  {
   "cell_type": "code",
   "execution_count": 10,
   "id": "ce667ce1",
   "metadata": {},
   "outputs": [
    {
     "data": {
      "text/plain": [
       "geopandas.geodataframe.GeoDataFrame"
      ]
     },
     "execution_count": 10,
     "metadata": {},
     "output_type": "execute_result"
    }
   ],
   "source": [
    "type(hydration_stations)"
   ]
  },
  {
   "cell_type": "code",
   "execution_count": null,
   "id": "a407f6e1",
   "metadata": {},
   "outputs": [],
   "source": []
  }
 ],
 "metadata": {
  "kernelspec": {
   "display_name": "Python 3 (ipykernel)",
   "language": "python",
   "name": "python3"
  },
  "language_info": {
   "codemirror_mode": {
    "name": "ipython",
    "version": 3
   },
   "file_extension": ".py",
   "mimetype": "text/x-python",
   "name": "python",
   "nbconvert_exporter": "python",
   "pygments_lexer": "ipython3",
   "version": "3.10.10"
  }
 },
 "nbformat": 4,
 "nbformat_minor": 5
}
